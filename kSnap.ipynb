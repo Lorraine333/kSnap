{
 "cells": [
  {
   "cell_type": "code",
   "execution_count": 295,
   "metadata": {
    "collapsed": true
   },
   "outputs": [],
   "source": [
    "import math\n",
    "import sys\n",
    "import re \n",
    "import heapq\n",
    "from sets import Set\n",
    "from matplotlib import cm\n",
    "import itertools\n",
    "import numpy as np\n",
    "import pandas as pd\n",
    "import matplotlib as mpl\n",
    "import pydotplus\n",
    "from graphviz import Digraph\n",
    "from sklearn import linear_model\n",
    "from __future__ import division\n",
    "mpl.rc('figure', figsize=[10,6]) "
   ]
  },
  {
   "cell_type": "code",
   "execution_count": 296,
   "metadata": {
    "collapsed": false
   },
   "outputs": [],
   "source": [
    "def updateFlag(val,sorted_attr_row):\n",
    "    for i in range(len(sorted_attr_row)-1):\n",
    "        val[i] = sorted_attr_row[i+1]\n",
    "\n",
    "def defineT(attr):\n",
    "    dtype = [('Id',int)]\n",
    "    for i in range(len(attr)):\n",
    "        dtype.append((attr[i],'S10'))\n",
    "    return dtype"
   ]
  },
  {
   "cell_type": "code",
   "execution_count": 297,
   "metadata": {
    "collapsed": true
   },
   "outputs": [],
   "source": [
    "def ACompatible(graph,edge,attr):\n",
    "    dtype = defineT(attr)\n",
    "    value = list(graph[attr].itertuples())\n",
    "    original_table = np.asarray(value,dtype=dtype)\n",
    "    groupArr = []\n",
    "\n",
    "    sorted_attr = np.sort(original_table, order=attr)  \n",
    "    val = ['','']\n",
    "    for i in range(len(sorted_attr)):\n",
    "        for j in range(len(attr)):\n",
    "            if(sorted_attr[i][j+1]==val[j]):\n",
    "                if(j == len(attr)-1):\n",
    "                    newGroup.append(sorted_attr[i])\n",
    "            else:\n",
    "                newGroup = [(sorted_attr[i])]\n",
    "                groupArr.append(newGroup)\n",
    "                updateFlag(val,sorted_attr[i])\n",
    "                break\n",
    "    return groupArr"
   ]
  },
  {
   "cell_type": "code",
   "execution_count": 298,
   "metadata": {
    "collapsed": true
   },
   "outputs": [],
   "source": [
    "def DataStruture(result1,edge,attr,graph):\n",
    "    print \"groupnumber\",len(result1)\n",
    "    groupNum = len(result1)\n",
    "    nodeNum = graph.shape[0]\n",
    "    mapsize = (nodeNum,groupNum)\n",
    "    bitMap = np.zeros(mapsize)\n",
    "    PArraySize = (groupNum,groupNum)\n",
    "    PArray = np.zeros(PArraySize)\n",
    "    edge = np.asarray(edge)\n",
    "    \n",
    "    #initialize bit map\n",
    "    for i in range(groupNum):\n",
    "        groupSet = result1[i]\n",
    "        for j in range(len(groupSet)):\n",
    "            CurrentNode = groupSet[j]\n",
    "            index = CurrentNode[0]\n",
    "            for m in range(groupNum):\n",
    "                if(m!=i):\n",
    "                    groupSet1 = result1[m]\n",
    "                    for n in range(len(groupSet1)):\n",
    "                        CurrentNode2 = groupSet1[n]\n",
    "                        index2 = CurrentNode2[0]\n",
    "                        if(not pd.isnull(edge[index2,index+1])):\n",
    "                            if(edge[index2,index+1]==1):\n",
    "                                bitMap[index][m]=1\n",
    "\n",
    "    #initialize participation array\n",
    "    for i in range(groupNum):\n",
    "        groupSet = result1[i]\n",
    "        temp = np.zeros(groupNum)\n",
    "        for j in range(len(groupSet)):\n",
    "            CurrentNode = groupSet[j]\n",
    "            index = CurrentNode[0]\n",
    "            for k in range(groupNum):\n",
    "                temp[k] += bitMap[index][k]\n",
    "        PArray[i] = temp\n",
    "        \n",
    "    return PArray,bitMap"
   ]
  },
  {
   "cell_type": "code",
   "execution_count": 299,
   "metadata": {
    "collapsed": true
   },
   "outputs": [],
   "source": [
    "def condition(SubGroup,PArray):\n",
    "    GroupNum = len(SubGroup);\n",
    "    for i in range(GroupNum):\n",
    "        setSize = len(SubGroup[i])\n",
    "        for j in range(GroupNum):\n",
    "            if ((PArray[i][j]!=setSize) & (PArray[i][j]!=0.0)):\n",
    "                return False,i+1\n",
    "    return True,0         "
   ]
  },
  {
   "cell_type": "code",
   "execution_count": 300,
   "metadata": {
    "collapsed": false
   },
   "outputs": [],
   "source": [
    "def GetMaxHeap(TempResult,PArray):\n",
    "    h = []\n",
    "    result = 0\n",
    "    groupT = 0\n",
    "    for i in xrange(len(TempResult)):\n",
    "        #print 'CT of group',str(i)\n",
    "        CTval, groupT = calCT(TempResult,i,PArray)\n",
    "        value = 0-CTval\n",
    "        heapq.heappush(h, (value,i,groupT))\n",
    "    result = heapq.heappop(h)\n",
    "    #print 'update group',result[1],'groupT',result[2],'ctvalue',0-result[0]\n",
    "    return result[1]+1,result[2]"
   ]
  },
  {
   "cell_type": "code",
   "execution_count": 301,
   "metadata": {
    "collapsed": false
   },
   "outputs": [],
   "source": [
    "def calRatio(PArray,i,j,TempResult):\n",
    "    gNum1 = len(TempResult[i])\n",
    "    #gNum2 = len(TempResult[j])\n",
    "    pNum1 = PArray[i][j]\n",
    "    #pNum2 = PArray[j][i]\n",
    "    return pNum1/gNum1\n",
    "    #return (pNum1+pNum2)/(gNum1+gNum2)\n",
    "    "
   ]
  },
  {
   "cell_type": "code",
   "execution_count": 302,
   "metadata": {
    "collapsed": false
   },
   "outputs": [],
   "source": [
    "def calCT(TempResult,i,PArray):\n",
    "    result = 0\n",
    "    t = 0\n",
    "    for j in xrange(len(PArray)):\n",
    "        ratio = calRatio(PArray,i,j,TempResult)\n",
    "        if(ratio<=0.5):\n",
    "            current = PArray[i][j]\n",
    "            #print 'delta',current,'with group',j\n",
    "        else:\n",
    "            current = len(TempResult[i])-PArray[i][j]\n",
    "            #print 'delta',current,'with group',j\n",
    "        if(current>result):\n",
    "            result = current\n",
    "            t = j\n",
    "    #print 'current CT of group',i,result,t\n",
    "    return result,t"
   ]
  },
  {
   "cell_type": "code",
   "execution_count": 303,
   "metadata": {
    "collapsed": false
   },
   "outputs": [],
   "source": [
    "def Split(BitMap,fixedGNum,groupT,TempResult,graph,attr):\n",
    "    groupNum = len(TempResult)\n",
    "    WaitingGroup = TempResult[fixedGNum-1]\n",
    "    tempBitMapsize = (len(WaitingGroup),groupNum)\n",
    "    tempBitMap = np.zeros(tempBitMapsize)\n",
    "    NodeIndex = []\n",
    "    subGroup1 = []\n",
    "    subGroup2 = []\n",
    "    \n",
    "    dtype = defineT(attr)\n",
    "    value = list(graph[attr].itertuples())\n",
    "    original_table = np.asarray(value,dtype=dtype)\n",
    "    for i in range(len(WaitingGroup)):\n",
    "        NodeIndex.append(WaitingGroup[i][0])\n",
    "        tempBitMap[i][:] = BitMap[WaitingGroup[i][0]][:]\n",
    "    table = np.concatenate((np.asarray(NodeIndex).reshape(len(np.asarray(NodeIndex)),1),tempBitMap),axis=1)\n",
    "\n",
    "    typename = []\n",
    "    for i in range(groupNum):\n",
    "        typename.append(\"attr\"+str(i))\n",
    "    \n",
    "    dtype = [('Id',int)]\n",
    "    for i in range(groupNum):\n",
    "        dtype.append((typename[i],float))\n",
    "\n",
    "    value = []\n",
    "    for i in range(len(NodeIndex)):\n",
    "        value.append(tuple(table[i].tolist()))\n",
    "\n",
    "    waitingSortTable = np.asarray(value,dtype=dtype)\n",
    "    \n",
    "    k=groupT\n",
    "    temp = np.sort(waitingSortTable, order=[typename[k],'Id'])\n",
    "    for m in range(len(temp)-1):\n",
    "        if(temp[m][k+1]!=temp[m+1][k+1]):\n",
    "            for j in range(m+1):\n",
    "                subGroup1.append(original_table[temp[j][0]])\n",
    "            for n in range(m+1,len(temp)):\n",
    "                subGroup2.append(original_table[temp[n][0]])\n",
    "            TempResult.remove(WaitingGroup)\n",
    "            TempResult.append(subGroup1)\n",
    "            TempResult.append(subGroup2)\n",
    "            return TempResult\n",
    "    return None"
   ]
  },
  {
   "cell_type": "code",
   "execution_count": 304,
   "metadata": {
    "collapsed": false
   },
   "outputs": [],
   "source": [
    "def kSNAP(graph,edge,attr,k):\n",
    "    TempResult = ACompatible(graph,edge,attr)\n",
    "    PArray,BitMap = DataStruture(TempResult,edge,attr,graph)\n",
    "#     for i in range(len(TempResult)):\n",
    "#         print \"group\"+str(i)\n",
    "#         #print len(TempResult[i])\n",
    "#         print TempResult[i]\n",
    "#     print 'Parray:'\n",
    "#     print PArray,'\\n'\n",
    "    groupNum, groupT = GetMaxHeap(TempResult,PArray)\n",
    "    cond,UseLessGN = condition(TempResult,PArray)\n",
    "    while((k>len(TempResult)) & (not cond)):\n",
    "        TempResult = Split(BitMap,groupNum,groupT,TempResult,graph,attr)\n",
    "        PArray,BitMap = DataStruture(TempResult,edge,attr,graph)\n",
    "#         for i in range(len(TempResult)):\n",
    "#             print \"group\"+str(i)\n",
    "#             #print len(TempResult[i])\n",
    "#             print TempResult[i]\n",
    "#         print 'Parray:'\n",
    "#         print PArray,'\\n'\n",
    "        groupNum, groupT = GetMaxHeap(TempResult,PArray)\n",
    "        cond,UseLessGN = condition(TempResult,PArray)\n",
    "    return TempResult,PArray"
   ]
  },
  {
   "cell_type": "code",
   "execution_count": 305,
   "metadata": {
    "collapsed": false,
    "scrolled": true
   },
   "outputs": [
    {
     "name": "stdout",
     "output_type": "stream",
     "text": [
      "groupnumber 4\n",
      "groupnumber 5\n",
      "groupnumber 6\n",
      "groupnumber 7\n"
     ]
    },
    {
     "data": {
      "text/plain": [
       "([[(5, 'Booth', 'Female')],\n",
       "  [(2, 'CS', 'Female')],\n",
       "  [(6, 'Booth', 'Male'), (7, 'Booth', 'Male')],\n",
       "  [(1, 'CS', 'Male')],\n",
       "  [(0, 'CS', 'Male')],\n",
       "  [(3, 'Booth', 'Male')],\n",
       "  [(4, 'Booth', 'Male')]],\n",
       " array([[ 0.,  0.,  1.,  0.,  1.,  0.,  1.],\n",
       "        [ 0.,  0.,  0.,  0.,  0.,  1.,  1.],\n",
       "        [ 2.,  0.,  0.,  0.,  0.,  0.,  0.],\n",
       "        [ 0.,  0.,  0.,  0.,  0.,  0.,  0.],\n",
       "        [ 1.,  0.,  0.,  0.,  0.,  0.,  0.],\n",
       "        [ 0.,  1.,  0.,  0.,  0.,  0.,  1.],\n",
       "        [ 1.,  1.,  0.,  0.,  0.,  1.,  0.]]))"
      ]
     },
     "execution_count": 305,
     "metadata": {},
     "output_type": "execute_result"
    }
   ],
   "source": [
    "graph = pd.read_csv('studentTestData/graph.csv')\n",
    "edge = pd.read_csv('studentTestData/relation.csv')\n",
    "attr = ['Department','Gender']\n",
    "kSNAP(graph,edge,attr,8)"
   ]
  },
  {
   "cell_type": "code",
   "execution_count": 306,
   "metadata": {
    "collapsed": false
   },
   "outputs": [],
   "source": [
    "attr = ['type']\n",
    "vertex = pd.read_csv('SwiftData/vertex.csv')\n",
    "edge = pd.read_csv('SwiftData/edge.csv')\n",
    "vertex['index'] = vertex.index\n",
    "\n",
    "#make the adjencent matrix\n",
    "NodeNum = len(vertex)\n",
    "EdgeNum = len(edge)\n",
    "vertex = np.asarray(vertex)\n",
    "edge = np.asarray(edge)\n",
    "Size = (NodeNum,NodeNum+1)\n",
    "AdjMatrix = np.zeros(Size)\n",
    "\n",
    "for k in range(NodeNum):\n",
    "    AdjMatrix[k][0] = k+1\n",
    "    \n",
    "for i in range(len(edge)):\n",
    "    if(edge[i][2]==1):\n",
    "        for j in range(len(vertex)):\n",
    "            if (vertex[j][0] == edge[i][0]): \n",
    "                startV = vertex[j][15]\n",
    "            if(vertex[j][9] == edge[i][1]):\n",
    "                endV = vertex[j][15]\n",
    "    else:\n",
    "        for j in range(len(vertex)):\n",
    "            if (vertex[j][9] == edge[i][1]):      \n",
    "                startV = vertex[j][15]\n",
    "            if(vertex[j][0] == edge[i][0]):\n",
    "                endV = vertex[j][15]\n",
    "    AdjMatrix[endV][startV+1] = 1"
   ]
  },
  {
   "cell_type": "code",
   "execution_count": 307,
   "metadata": {
    "collapsed": false
   },
   "outputs": [],
   "source": [
    "#build weight\n",
    "weight = np.zeros((61))\n",
    "vertex = np.asarray(vertex)\n",
    "duration = []\n",
    "size = []\n",
    "for i in range(len(weight)):\n",
    "    if(i <18):\n",
    "        duration.append(vertex[i][5])\n",
    "    else:\n",
    "        size.append(vertex[i][12])\n",
    "sub_d = max(duration)-min(duration)\n",
    "sub_s = max(size)-min(size)\n",
    "for i in range(len(weight)):\n",
    "    if(i<18):\n",
    "        d = duration[i]-min(duration)\n",
    "        weight[i]= (d*10)/sub_d\n",
    "    else:\n",
    "        s = size[i-18]-min(size)\n",
    "        weight[i] = (s*10)/sub_s\n",
    "for i in range(len(weight)):\n",
    "    weight[i] = weight[i]+1"
   ]
  },
  {
   "cell_type": "code",
   "execution_count": 308,
   "metadata": {
    "collapsed": false
   },
   "outputs": [],
   "source": [
    "def calInfEntr(Result,weight):\n",
    "    gTotal = []\n",
    "    result = 0\n",
    "    for i in range(len(Result)):\n",
    "        total = 0\n",
    "        for j in range(len(Result[i])):\n",
    "            index = Result[i][j][0]\n",
    "            total += weight[index]\n",
    "        gTotal.append(total)\n",
    "    for k in range(len(gTotal)):\n",
    "        temp = gTotal[k]/sum(gTotal)\n",
    "        result += temp*math.log(temp)\n",
    "    result = 0-result\n",
    "    print 'Information Entropy:',result"
   ]
  },
  {
   "cell_type": "code",
   "execution_count": 309,
   "metadata": {
    "collapsed": true
   },
   "outputs": [],
   "source": [
    "def kSNAP_w(graph,edge,weight,attr,k):\n",
    "    TempResult = ACompatible(graph,edge,attr)\n",
    "    PArray,BitMap = DataStruture(TempResult,edge,attr,graph)\n",
    "#     for i in range(len(TempResult)):\n",
    "#         print \"group\"+str(i)\n",
    "#         #print len(TempResult[i])\n",
    "#         print TempResult[i]\n",
    "#     print 'Parray:'\n",
    "#     print PArray,'\\n'\n",
    "    calInfEntr(TempResult,weight)\n",
    "    groupNum, groupT = GetMaxHeap(TempResult,PArray)\n",
    "    cond,UseLessGN = condition(TempResult,PArray)\n",
    "    while((k>len(TempResult)) & (not cond)):\n",
    "        TempResult = Split(BitMap,groupNum,groupT,TempResult,graph,attr)\n",
    "        PArray,BitMap = DataStruture(TempResult,edge,attr,graph)\n",
    "        calInfEntr(TempResult,weight)\n",
    "#         for i in range(len(TempResult)):\n",
    "#             print \"group\"+str(i)\n",
    "#             #print len(TempResult[i])\n",
    "#             print TempResult[i]\n",
    "#         print 'Parray:'\n",
    "#         print PArray,'\\n'\n",
    "        groupNum, groupT = GetMaxHeap(TempResult,PArray)\n",
    "        cond,UseLessGN = condition(TempResult,PArray)\n",
    "    return TempResult,PArray"
   ]
  },
  {
   "cell_type": "code",
   "execution_count": 310,
   "metadata": {
    "collapsed": false
   },
   "outputs": [
    {
     "name": "stdout",
     "output_type": "stream",
     "text": [
      "groupnumber 2\n",
      "Information Entropy: 0.686693406962\n",
      "groupnumber 3\n",
      "Information Entropy: 0.718917757278\n",
      "groupnumber 4\n",
      "Information Entropy: 0.751951540083\n",
      "groupnumber 5\n",
      "Information Entropy: 0.905010230941\n",
      "groupnumber 6\n",
      "Information Entropy: 1.27487514564\n",
      "groupnumber 7\n",
      "Information Entropy: 1.54173478316\n",
      "groupnumber 8\n",
      "Information Entropy: 1.5933719211\n",
      "groupnumber 9\n",
      "Information Entropy: 1.70827982116\n"
     ]
    }
   ],
   "source": [
    "vertex = pd.read_csv('SwiftData/vertex.csv')\n",
    "SMRnode,PArray = kSNAP_w(vertex,AdjMatrix,weight,attr,10)"
   ]
  },
  {
   "cell_type": "code",
   "execution_count": 292,
   "metadata": {
    "collapsed": false
   },
   "outputs": [
    {
     "data": {
      "text/plain": [
       "'1013Output/kSnapColorGrap.pdf'"
      ]
     },
     "execution_count": 292,
     "metadata": {},
     "output_type": "execute_result"
    }
   ],
   "source": [
    "dot2 = Digraph(comment='ColorGraph')\n",
    "vertex = pd.read_csv('SwiftData/vertex.csv')\n",
    "vertex['index']= vertex.index\n",
    "edge = np.asarray(edge)\n",
    "for i in range(len(SMRnode)):\n",
    "    if(i==0):\n",
    "        color = 'red'\n",
    "    if(i==1):\n",
    "        color = 'blue'\n",
    "    if(i==2):\n",
    "        color = 'green'\n",
    "    if(i==3):\n",
    "        color = 'yellow'\n",
    "    if(i==4):\n",
    "        color = 'cyan'\n",
    "    if(i==5):\n",
    "        color = 'magenta'\n",
    "    if(i==6):\n",
    "        color = 'Purple'\n",
    "    if(i==7):\n",
    "        color = 'grey'\n",
    "    if(i==8):\n",
    "        color = 'tan'\n",
    "    if(i==9):\n",
    "        color = 'SeaGreen'\n",
    "    if(i==10):\n",
    "        color = 'chocolate'\n",
    "    if(i==11):\n",
    "        color = 'salmon'\n",
    "    if(i==12):\n",
    "        color = 'YellowGreen'\n",
    "    if(i==13):\n",
    "        color = 'Lavender'\n",
    "    if(i==14):\n",
    "        color = 'Olive'\n",
    "    if(i==15):\n",
    "        color = 'Orange'\n",
    "    if(i==16):\n",
    "        color = 'Violet'\n",
    "    if(i==17):\n",
    "        color = 'PeachPuff'\n",
    "        \n",
    "        \n",
    "    for j in range(len(SMRnode[i])):\n",
    "        if(SMRnode[i][j][1]=='App'):\n",
    "            vertexid = vertex.iloc[SMRnode[i][j][0]]['index']\n",
    "            dot2.node(str(vertexid),str(SMRnode[i][j]) ,color = color,style='filled')\n",
    "        if(SMRnode[i][j][1]=='File'):\n",
    "            fileid = vertex.iloc[SMRnode[i][j][0]]['index']\n",
    "            dot2.node(str(fileid),str(SMRnode[i][j]) ,color = color,style='filled')\n",
    "for j in range(len(edge)):\n",
    "    if(edge[j][2]==1):\n",
    "        startid = vertex[vertex['app_exec_id']==str(edge[j][0])].index.values[0]\n",
    "        endid = vertex[vertex['file_id']==str(edge[j][1])].index.values[0]\n",
    "        dot2.edge(str(startid),str(endid))            \n",
    "    else:\n",
    "        startid = vertex[vertex['file_id']==str(edge[j][1])].index.values[0]\n",
    "        endid = vertex[vertex['app_exec_id']==str(edge[j][0])].index.values[0]\n",
    "        dot2.edge(str(startid),str(endid))\n",
    "dot2.render('1013Output/kSnapColorGrap')"
   ]
  },
  {
   "cell_type": "code",
   "execution_count": 149,
   "metadata": {
    "collapsed": false
   },
   "outputs": [
    {
     "data": {
      "text/plain": [
       "'1013Output/kSnapSummary_Graph.pdf'"
      ]
     },
     "execution_count": 149,
     "metadata": {},
     "output_type": "execute_result"
    }
   ],
   "source": [
    "dot1 = Digraph(comment='Summary Graph')\n",
    "\n",
    "for i in range(len(SMRnode)):\n",
    "    if(i==0):\n",
    "        color = 'red'\n",
    "    if(i==1):\n",
    "        color = 'blue'\n",
    "    if(i==2):\n",
    "        color = 'green'\n",
    "    if(i==3):\n",
    "        color = 'yellow'\n",
    "    if(i==4):\n",
    "        color = 'cyan'\n",
    "    if(i==5):\n",
    "        color = 'magenta'\n",
    "    if(i==6):\n",
    "        color = 'Purple'\n",
    "    if(i==7):\n",
    "        color = 'grey'\n",
    "    if(i==8):\n",
    "        color = 'tan'\n",
    "    if(i==9):\n",
    "        color = 'SeaGreen'\n",
    "    if(i==10):\n",
    "        color = 'chocolate'\n",
    "    if(i==11):\n",
    "        color = 'salmon'\n",
    "    if(i==12):\n",
    "        color = 'YellowGreen'\n",
    "    if(i==13):\n",
    "        color = 'Lavender'\n",
    "    if(i==14):\n",
    "        color = 'Olive'\n",
    "    if(i==15):\n",
    "        color = 'Orange'\n",
    "    if(i==16):\n",
    "        color = 'Violet'\n",
    "    if(i==17):\n",
    "        color = 'PeachPuff'\n",
    "          \n",
    "    dot1.node(str(SMRnode[i][0]),str(SMRnode[i][0]),color = color,style='filled')\n",
    "    for j in range(len(SMRnode)):\n",
    "        if(i!=j):\n",
    "            if(PArray[i][j]!=0):\n",
    "                dot1.edge(str(SMRnode[j][0]),str(SMRnode[i][0]))\n",
    "\n",
    "dot1.render('1013Output/kSnapSummary_Graph')"
   ]
  },
  {
   "cell_type": "code",
   "execution_count": null,
   "metadata": {
    "collapsed": true
   },
   "outputs": [],
   "source": []
  }
 ],
 "metadata": {
  "kernelspec": {
   "display_name": "Python 2",
   "language": "python",
   "name": "python2"
  },
  "language_info": {
   "codemirror_mode": {
    "name": "ipython",
    "version": 2
   },
   "file_extension": ".py",
   "mimetype": "text/x-python",
   "name": "python",
   "nbconvert_exporter": "python",
   "pygments_lexer": "ipython2",
   "version": "2.7.6"
  }
 },
 "nbformat": 4,
 "nbformat_minor": 0
}
